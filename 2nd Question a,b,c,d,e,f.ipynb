{
  "nbformat": 4,
  "nbformat_minor": 0,
  "metadata": {
    "colab": {
      "provenance": []
    },
    "kernelspec": {
      "name": "python3",
      "display_name": "Python 3"
    },
    "language_info": {
      "name": "python"
    }
  },
  "cells": [
    {
      "cell_type": "markdown",
      "source": [
        "## a)\tUtility matrix as a Boolean, compute Jaccard distance between each pair"
      ],
      "metadata": {
        "id": "S-aNIGyxPUyv"
      }
    },
    {
      "cell_type": "code",
      "execution_count": 5,
      "metadata": {
        "colab": {
          "base_uri": "https://localhost:8080/"
        },
        "id": "B_z7-K7fPKBo",
        "outputId": "02cbc717-b555-44fc-9600-dc4c4e86fa42"
      },
      "outputs": [
        {
          "output_type": "stream",
          "name": "stdout",
          "text": [
            "User vs. Book Reading Table    User 1    User 2    User 3    User 4    User 5\n",
            "User vs. Book Reading Table                                                  \n",
            "User 1                       0.000000  1.000000  0.714286  0.857143  0.500000\n",
            "User 2                       1.000000  0.000000  0.400000  0.833333  1.000000\n",
            "User 3                       0.714286  0.400000  0.000000  0.875000  0.888889\n",
            "User 4                       0.857143  0.833333  0.875000  0.000000  0.500000\n",
            "User 5                       0.500000  1.000000  0.888889  0.500000  0.000000\n"
          ]
        }
      ],
      "source": [
        "import pandas as pd\n",
        "import numpy as np\n",
        "\n",
        "# Sample Data: Replace this with your actual data load method\n",
        "# Assuming 'data' is your DataFrame with users as rows and books as columns\n",
        "data = pd.DataFrame({\n",
        "    'User vs. Book Reading Table': ['User 1', 'User 2', 'User 3', 'User 4', 'User 5'],\n",
        "    'Built to Last': [5.0, np.nan, np.nan, np.nan, 5.0],\n",
        "    'The HP Way': [np.nan, np.nan, np.nan, 5.0, 3.0],\n",
        "    'Physics Made Easy': [np.nan, 5.0, 2.0, np.nan, np.nan],\n",
        "    'The Wisdom of Teams': [np.nan, np.nan, np.nan, 4.0, 2.0],\n",
        "    'Baby Bear': [2.0, np.nan, 4.0 , np.nan, 4.0],\n",
        "    'Experimental Chemistry': [np.nan, 4.0, 5.0, np.nan, np.nan],\n",
        "    'Charlie the Ranch Dog': [3.0, np.nan, 5.0, np.nan, np.nan] ,\n",
        "    'The Good to Great': [5.0, np.nan, np.nan, 5.0, 4.0],\n",
        "    'Electronic devices and circuits – Millman & Halkias': [np.nan, 5.0, 5.0, 1.0, np.nan]\n",
        "})\n",
        "\n",
        "# Convert the ratings to a Boolean format\n",
        "boolean_data = data.set_index('User vs. Book Reading Table').notnull()\n",
        "\n",
        "# Function to compute Jaccard distance\n",
        "def jaccard_distance(user1, user2):\n",
        "    intersection = np.sum(user1 & user2)\n",
        "    union = np.sum(user1 | user2)\n",
        "    return 1 - intersection / union if union != 0 else 1\n",
        "\n",
        "# Compute the Jaccard distance for each pair of users\n",
        "n_users = boolean_data.shape[0]\n",
        "jaccard_distances = np.zeros((n_users, n_users))\n",
        "\n",
        "for i in range(n_users):\n",
        "    for j in range(n_users):\n",
        "        jaccard_distances[i, j] = jaccard_distance(boolean_data.iloc[i], boolean_data.iloc[j])\n",
        "\n",
        "# Creating a DataFrame for the Jaccard distances\n",
        "jaccard_distances_df = pd.DataFrame(jaccard_distances,\n",
        "                                    index=boolean_data.index,\n",
        "                                    columns=boolean_data.index)\n",
        "\n",
        "# Display the Jaccard distance matrix\n",
        "print(jaccard_distances_df)"
      ]
    },
    {
      "cell_type": "markdown",
      "source": [
        "## b)\tRepeat a with Cosine distance"
      ],
      "metadata": {
        "id": "iqYk7zyYPy7S"
      }
    },
    {
      "cell_type": "code",
      "source": [
        "from sklearn.metrics.pairwise import cosine_similarity\n",
        "import pandas as pd\n",
        "import numpy as np\n",
        "\n",
        "# Sample Data: Replace this with your actual data load method\n",
        "# Assuming 'data' is your DataFrame with users as rows and books as columns\n",
        "data = pd.DataFrame({\n",
        "    'User vs. Book Reading Table': ['User 1', 'User 2', 'User 3', 'User 4', 'User 5'],\n",
        "    'Built to Last': [5.0, np.nan, np.nan, np.nan, 5.0],\n",
        "    'The HP Way': [np.nan, np.nan, np.nan, 5.0, 3.0],\n",
        "    'Physics Made Easy': [np.nan, 5.0, 2.0, np.nan, np.nan],\n",
        "    'The Wisdom of Teams': [np.nan, np.nan, np.nan, 4.0, 2.0],\n",
        "    'Baby Bear': [2.0, np.nan, 4.0 , np.nan, 4.0],\n",
        "    'Experimental Chemistry': [np.nan, 4.0, 5.0, np.nan, np.nan],\n",
        "    'Charlie the Ranch Dog': [3.0, np.nan, 5.0, np.nan, np.nan] ,\n",
        "    'The Good to Great': [5.0, np.nan, np.nan, 5.0, 4.0],\n",
        "    'Electronic devices and circuits – Millman & Halkias': [np.nan, 5.0, 5.0, 1.0, np.nan]\n",
        "})\n",
        "\n",
        "# Fill NaN values with 0\n",
        "data_filled = data.set_index('User vs. Book Reading Table').fillna(0)\n",
        "\n",
        "# Compute the Cosine similarity matrix\n",
        "cosine_sim = cosine_similarity(data_filled)\n",
        "\n",
        "# Convert similarity to distance\n",
        "cosine_dist = 1 - cosine_sim\n",
        "\n",
        "# Creating a DataFrame for the Cosine distances\n",
        "cosine_distances_df = pd.DataFrame(cosine_dist,\n",
        "                                   index=data_filled.index,\n",
        "                                   columns=data_filled.index)\n",
        "\n",
        "# Display the Cosine distance matrix\n",
        "print(cosine_distances_df)\n"
      ],
      "metadata": {
        "colab": {
          "base_uri": "https://localhost:8080/"
        },
        "id": "V16QLclXPvXy",
        "outputId": "7cb9e412-85c2-4932-c18f-bfe6e4e12a16"
      },
      "execution_count": 4,
      "outputs": [
        {
          "output_type": "stream",
          "name": "stdout",
          "text": [
            "User vs. Book Reading Table    User 1        User 2        User 3  \\\n",
            "User vs. Book Reading Table                                         \n",
            "User 1                       0.000000  1.000000e+00  7.026994e-01   \n",
            "User 2                       1.000000  2.220446e-16  3.054094e-01   \n",
            "User 3                       0.702699  3.054094e-01 -2.220446e-16   \n",
            "User 4                       0.615202  9.248099e-01  9.373284e-01   \n",
            "User 5                       0.201901  1.000000e+00  8.037954e-01   \n",
            "\n",
            "User vs. Book Reading Table        User 4        User 5  \n",
            "User vs. Book Reading Table                              \n",
            "User 1                       6.152024e-01  2.019014e-01  \n",
            "User 2                       9.248099e-01  1.000000e+00  \n",
            "User 3                       9.373284e-01  8.037954e-01  \n",
            "User 4                       1.110223e-16  3.721122e-01  \n",
            "User 5                       3.721122e-01  1.110223e-16  \n"
          ]
        }
      ]
    },
    {
      "cell_type": "markdown",
      "source": [
        "## c)\tTreat 3, 4, 5 as 1 and 1,2, and blank as 0. Compute Jaccard distance between each pair"
      ],
      "metadata": {
        "id": "gMWijF01VBzf"
      }
    },
    {
      "cell_type": "code",
      "source": [
        "from google.colab import drive\n",
        "import pandas as pd\n",
        "\n",
        "# This will prompt for authorization to access your Google Drive\n",
        "drive.mount('/content/drive')\n",
        "\n",
        "# After mounting, use the file path to your dataset on Google Drive\n",
        "file_path = '/content/drive/My Drive/Final Exam 256/Final Exam 256.xlsx'  # Update this path\n",
        "\n",
        "# Function to map ratings to 1 and 0\n",
        "def map_rating(rating):\n",
        "    if pd.isna(rating) or rating < 3:\n",
        "        return 0\n",
        "    else:\n",
        "        return 1\n",
        "\n",
        "# Function to compute Jaccard distance\n",
        "def jaccard_distance(user1, user2):\n",
        "    intersection = np.sum(user1 & user2)\n",
        "    union = np.sum(user1 | user2)\n",
        "    return 1 - intersection / union if union != 0 else 1\n",
        "\n",
        "# Load your data\n",
        "data = pd.read_excel(file_path)\n",
        "\n",
        "# Apply the mapping (3, 4, 5 as 1 and 1, 2, and blank as 0)\n",
        "data_mapped = data.set_index('User vs. Book Reading Table').applymap(map_rating)\n",
        "\n",
        "# Compute the Jaccard distance for each pair of users\n",
        "n_users = data_mapped.shape[0]\n",
        "jaccard_distances = np.zeros((n_users, n_users))\n",
        "\n",
        "for i in range(n_users):\n",
        "    for j in range(n_users):\n",
        "        jaccard_distances[i, j] = jaccard_distance(data_mapped.iloc[i], data_mapped.iloc[j])\n",
        "\n",
        "# Creating a DataFrame for the Jaccard distances\n",
        "jaccard_distances_df = pd.DataFrame(jaccard_distances,\n",
        "                                    index=data_mapped.index,\n",
        "                                    columns=data_mapped.index)\n",
        "\n",
        "# Display the Jaccard distance matrix\n",
        "print(jaccard_distances_df)"
      ],
      "metadata": {
        "colab": {
          "base_uri": "https://localhost:8080/"
        },
        "id": "RhABzN5BQvK-",
        "outputId": "7ed00d55-1770-406a-c83c-901cc7af04c6"
      },
      "execution_count": 3,
      "outputs": [
        {
          "output_type": "stream",
          "name": "stdout",
          "text": [
            "Mounted at /content/drive\n",
            "User vs. Book Reading Table    User 1  User 2    User 3  User 4    User 5\n",
            "User vs. Book Reading Table                                              \n",
            "User 1                       0.000000     1.0  0.833333     0.8  0.600000\n",
            "User 2                       1.000000     0.0  0.600000     1.0  1.000000\n",
            "User 3                       0.833333     0.6  0.000000     1.0  0.857143\n",
            "User 4                       0.800000     1.0  1.000000     0.0  0.600000\n",
            "User 5                       0.600000     1.0  0.857143     0.6  0.000000\n"
          ]
        }
      ]
    },
    {
      "cell_type": "markdown",
      "source": [
        "## d)\tRepeat C with Cosine distance"
      ],
      "metadata": {
        "id": "gHjnXD2GVrLj"
      }
    },
    {
      "cell_type": "code",
      "source": [
        "from sklearn.metrics.pairwise import cosine_similarity\n",
        "import pandas as pd\n",
        "import numpy as np\n",
        "\n",
        "# Load the data from the Excel file\n",
        "# Make sure to replace 'path_to_your_file.xlsx' with the actual path to your Excel file\n",
        "data_full = pd.read_excel('/content/drive/My Drive/Final Exam 256/Final Exam 256.xlsx')\n",
        "\n",
        "# Function to map ratings to 1 and 0\n",
        "def map_rating(rating):\n",
        "    if pd.isna(rating) or rating < 3:\n",
        "        return 0\n",
        "    else:\n",
        "        return 1\n",
        "\n",
        "# Apply the mapping to the data\n",
        "data_full_mapped = data_full.set_index('User vs. Book Reading Table').applymap(map_rating)\n",
        "\n",
        "# Compute the Cosine similarity matrix\n",
        "cosine_sim = cosine_similarity(data_full_mapped)\n",
        "\n",
        "# Convert similarity to distance\n",
        "cosine_dist = 1 - cosine_sim\n",
        "\n",
        "# Creating a DataFrame for the Cosine distances\n",
        "cosine_distances_df = pd.DataFrame(cosine_dist,\n",
        "                                   index=data_full_mapped.index,\n",
        "                                   columns=data_full_mapped.index)\n",
        "\n",
        "# Display the Cosine distance matrix\n",
        "print(cosine_distances_df)\n"
      ],
      "metadata": {
        "colab": {
          "base_uri": "https://localhost:8080/"
        },
        "id": "NNa9RGFWVEcR",
        "outputId": "944fb7c9-ca50-43f5-c289-dc18e18be9e8"
      },
      "execution_count": 8,
      "outputs": [
        {
          "output_type": "stream",
          "name": "stdout",
          "text": [
            "User vs. Book Reading Table        User 1        User 2    User 3  \\\n",
            "User vs. Book Reading Table                                         \n",
            "User 1                      -2.220446e-16  1.000000e+00  0.711325   \n",
            "User 2                       1.000000e+00 -2.220446e-16  0.422650   \n",
            "User 3                       7.113249e-01  4.226497e-01  0.000000   \n",
            "User 4                       6.666667e-01  1.000000e+00  1.000000   \n",
            "User 5                       4.226497e-01  1.000000e+00  0.750000   \n",
            "\n",
            "User vs. Book Reading Table        User 4   User 5  \n",
            "User vs. Book Reading Table                         \n",
            "User 1                       6.666667e-01  0.42265  \n",
            "User 2                       1.000000e+00  1.00000  \n",
            "User 3                       1.000000e+00  0.75000  \n",
            "User 4                      -2.220446e-16  0.42265  \n",
            "User 5                       4.226497e-01  0.00000  \n"
          ]
        }
      ]
    },
    {
      "cell_type": "markdown",
      "source": [
        "## e)\tNormalize the matrix by subtracting from each nonblank entry the average value for its user."
      ],
      "metadata": {
        "id": "F84kmxYdWHWS"
      }
    },
    {
      "cell_type": "code",
      "source": [
        "import pandas as pd\n",
        "import numpy as np\n",
        "\n",
        "# Load the data from the Excel file\n",
        "# Make sure to replace 'path_to_your_file.xlsx' with the actual path to your Excel file\n",
        "data_full = pd.read_excel('/content/drive/My Drive/Final Exam 256/Final Exam 256.xlsx')\n",
        "\n",
        "# Set the index to user names\n",
        "data_full.set_index('User vs. Book Reading Table', inplace=True)\n",
        "\n",
        "# Calculate the average rating for each user\n",
        "user_averages = data_full.mean(axis=1)\n",
        "\n",
        "# Normalize the matrix\n",
        "normalized_data = data_full.sub(user_averages, axis=0)\n",
        "\n",
        "# Replace NaN values back to the normalized matrix\n",
        "normalized_data.fillna(value=np.nan, inplace=True)\n",
        "\n",
        "# Display the normalized data\n",
        "print(normalized_data)"
      ],
      "metadata": {
        "colab": {
          "base_uri": "https://localhost:8080/"
        },
        "id": "XY1NeEv3V-_S",
        "outputId": "4995f790-6e0b-4253-a0c8-50d724d1ce65"
      },
      "execution_count": 10,
      "outputs": [
        {
          "output_type": "stream",
          "name": "stdout",
          "text": [
            "                             Built to Last  The HP Way  Physics Made Easy  \\\n",
            "User vs. Book Reading Table                                                 \n",
            "User 1                                1.25         NaN                NaN   \n",
            "User 2                                 NaN         NaN           0.333333   \n",
            "User 3                                 NaN         NaN          -2.200000   \n",
            "User 4                                 NaN        1.25                NaN   \n",
            "User 5                                1.40       -0.60                NaN   \n",
            "\n",
            "                             The Wisdom of Teams  Baby Bear  \\\n",
            "User vs. Book Reading Table                                   \n",
            "User 1                                       NaN      -1.75   \n",
            "User 2                                       NaN        NaN   \n",
            "User 3                                       NaN      -0.20   \n",
            "User 4                                      0.25        NaN   \n",
            "User 5                                     -1.60       0.40   \n",
            "\n",
            "                             Experimental Chemistry  Charlie the Ranch Dog  \\\n",
            "User vs. Book Reading Table                                                  \n",
            "User 1                                          NaN                  -0.75   \n",
            "User 2                                    -0.666667                    NaN   \n",
            "User 3                                     0.800000                   0.80   \n",
            "User 4                                          NaN                    NaN   \n",
            "User 5                                          NaN                    NaN   \n",
            "\n",
            "                             The Good to Great  \\\n",
            "User vs. Book Reading Table                      \n",
            "User 1                                    1.25   \n",
            "User 2                                     NaN   \n",
            "User 3                                     NaN   \n",
            "User 4                                    1.25   \n",
            "User 5                                    0.40   \n",
            "\n",
            "                             Electronic devices and circuits – Millman & Halkias  \n",
            "User vs. Book Reading Table                                                       \n",
            "User 1                                                                     NaN    \n",
            "User 2                                                                0.333333    \n",
            "User 3                                                                0.800000    \n",
            "User 4                                                               -2.750000    \n",
            "User 5                                                                     NaN    \n"
          ]
        }
      ]
    },
    {
      "cell_type": "markdown",
      "source": [
        "## f)\tUsing the normalized matrix from e, compute the cosine distance between each pair?"
      ],
      "metadata": {
        "id": "qonz-6lHWgla"
      }
    },
    {
      "cell_type": "code",
      "source": [
        "from sklearn.metrics.pairwise import cosine_similarity\n",
        "import pandas as pd\n",
        "import numpy as np\n",
        "\n",
        "# Load the data from the Excel file\n",
        "# Make sure to replace 'path_to_your_file.xlsx' with the actual path to your Excel file\n",
        "data_full = pd.read_excel('/content/drive/My Drive/Final Exam 256/Final Exam 256.xlsx')\n",
        "\n",
        "# Set the index to user names\n",
        "data_full.set_index('User vs. Book Reading Table', inplace=True)\n",
        "\n",
        "# Calculate the average rating for each user\n",
        "user_averages = data_full.mean(axis=1)\n",
        "\n",
        "# Normalize the matrix\n",
        "normalized_data = data_full.sub(user_averages, axis=0)\n",
        "\n",
        "# Replace NaN values with 0 for the purpose of cosine similarity calculation\n",
        "normalized_data_for_cosine = normalized_data.fillna(0)\n",
        "\n",
        "# Compute the Cosine similarity matrix\n",
        "cosine_sim = cosine_similarity(normalized_data_for_cosine)\n",
        "\n",
        "# Convert similarity to distance\n",
        "cosine_dist = 1 - cosine_sim\n",
        "\n",
        "# Creating a DataFrame for the Cosine distances\n",
        "cosine_distances_df = pd.DataFrame(cosine_dist,\n",
        "                                   index=normalized_data.index,\n",
        "                                   columns=normalized_data.index)\n",
        "\n",
        "# Display the Cosine distance matrix\n",
        "print(cosine_distances_df)"
      ],
      "metadata": {
        "colab": {
          "base_uri": "https://localhost:8080/"
        },
        "id": "CpEwd0O6WXgw",
        "outputId": "d6d43285-2a97-4d1a-a0bb-121e47416410"
      },
      "execution_count": 12,
      "outputs": [
        {
          "output_type": "stream",
          "name": "stdout",
          "text": [
            "User vs. Book Reading Table    User 1        User 2    User 3        User 4  \\\n",
            "User vs. Book Reading Table                                                   \n",
            "User 1                       0.000000  1.000000e+00  1.036901  8.165727e-01   \n",
            "User 2                       1.000000  1.110223e-16  1.469668  1.342415e+00   \n",
            "User 3                       1.036901  1.469668e+00  0.000000  1.257314e+00   \n",
            "User 4                       0.816573  1.342415e+00  1.257314 -2.220446e-16   \n",
            "User 5                       0.738376  1.000000e+00  1.013453  1.086938e+00   \n",
            "\n",
            "User vs. Book Reading Table        User 5  \n",
            "User vs. Book Reading Table                \n",
            "User 1                       7.383757e-01  \n",
            "User 2                       1.000000e+00  \n",
            "User 3                       1.013453e+00  \n",
            "User 4                       1.086938e+00  \n",
            "User 5                       1.110223e-16  \n"
          ]
        }
      ]
    }
  ]
}